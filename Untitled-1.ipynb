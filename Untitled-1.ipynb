{
 "cells": [
  {
   "cell_type": "code",
   "execution_count": null,
   "metadata": {},
   "outputs": [
    {
     "data": {
      "text/plain": [
       "Traceback (most recent call last):\n",
       "  File \"c:\\Users\\dhawa\\.vscode\\extensions\\ms-python.python-2025.0.0-win32-x64\\python_files\\python_server.py\", line 133, in exec_user_input\n",
       "    retval = callable_(user_input, user_globals)\n",
       "  File \"<string>\", line 1\n",
       "    pip install datawrangler\n",
       "        ^\n",
       "SyntaxError: invalid syntax\n",
       "\n"
      ]
     },
     "metadata": {},
     "output_type": "display_data"
    }
   ],
   "source": [
    "pip install datawrangler"
   ]
  },
  {
   "cell_type": "code",
   "execution_count": null,
   "metadata": {},
   "outputs": [
    {
     "data": {
      "text/plain": [
       "Traceback (most recent call last):\n",
       "  File \"c:\\Users\\dhawa\\.vscode\\extensions\\ms-python.python-2025.0.0-win32-x64\\python_files\\python_server.py\", line 133, in exec_user_input\n",
       "    retval = callable_(user_input, user_globals)\n",
       "  File \"<string>\", line 2, in <module>\n",
       "ModuleNotFoundError: No module named 'datawrangler'\n",
       "\n"
      ]
     },
     "metadata": {},
     "output_type": "display_data"
    }
   ],
   "source": [
    "import pandas as pd \n",
    "import datawrangler as dw\n",
    "file_path =r\"C:\\Users\\dhawa\\Desktop\\mEng Project\\virtual_bidding\\RT_COMMITMENT_ZONAL\\OASIS_Real_Time_Commitment_Zonal_LBMP.csv\"\n",
    "rtc = pd.read_csv(file_path)\n",
    "file_path = r\"C:\\Users\\dhawa\\Desktop\\mEng Project\\virtual_bidding\\RT_LBMP\\20240301rtlbmp_zone_csv\\20240301rtlbmp_zone.csv\"\n",
    "rtlbmp = pd.read_csv(file_path)\n",
    "file_path = r\"C:\\Users\\dhawa\\Desktop\\mEng Project\\virtual_bidding\\DA_LBMP\\20250301damlbmp_zone_csv\\20250301damlbmp_zone.csv\"\n",
    "dalbmp = pd.read_csv(file_path)\n",
    "transformed_df = dw.DataWrangler(rtc)\n",
    "\n"
   ]
  },
  {
   "cell_type": "code",
   "execution_count": null,
   "metadata": {},
   "outputs": [],
   "source": []
  },
  {
   "cell_type": "code",
   "execution_count": null,
   "metadata": {},
   "outputs": [],
   "source": []
  }
 ],
 "metadata": {
  "language_info": {
   "name": "python"
  }
 },
 "nbformat": 4,
 "nbformat_minor": 2
}
