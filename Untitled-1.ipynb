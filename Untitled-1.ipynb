{
 "cells": [
  {
   "cell_type": "code",
   "execution_count": null,
   "metadata": {},
   "outputs": [],
   "source": [
    "# %pip install datawrangler\n",
    "\n",
    "import pandas as pd \n",
    "\n",
    "file_path = r\"C:\\Users\\dhawa\\Desktop\\mEng Project\\virtual_bidding\\RT_COMMITMENT_ZONAL\\OASIS_Real_Time_Commitment_Zonal_LBMP.csv\"\n",
    "rtc = pd.read_csv(file_path)\n",
    "\n",
    "file_path = r\"C:\\Users\\dhawa\\Desktop\\mEng Project\\virtual_bidding\\RT_LBMP\\20250301rtlbmp_zone_csv\\20240301rtlbmp_zone.csv\"\n",
    "rtlbmp = pd.read_csv(file_path)\n",
    "\n",
    "file_path = r\"C:\\Users\\dhawa\\Desktop\\mEng Project\\virtual_bidding\\DA_LBMP\\20250301damlbmp_zone_csv\\20250301damlbmp_zone.csv\"\n",
    "dalbmp = pd.read_csv(file_path)\n",
    "\n",
    "\n"
   ]
  },
  {
   "cell_type": "code",
   "execution_count": 3,
   "metadata": {},
   "outputs": [
    {
     "name": "stdout",
     "output_type": "stream",
     "text": [
      "Empty DataFrame\n",
      "Columns: [Time Stamp, Name, PTID, LBMP ($/MWHr), Marginal Cost Losses ($/MWHr), Marginal Cost Congestion ($/MWHr), duplicate_rank]\n",
      "Index: []\n",
      "Saved: C:\\Users\\dhawa\\Desktop\\mEng Project\\virtual_bidding\\DA_LBMP_PROCESSED\\LBMP_.csv\n",
      "Empty DataFrame\n",
      "Columns: [Time Stamp, Name, PTID, LBMP ($/MWHr), Marginal Cost Losses ($/MWHr), Marginal Cost Congestion ($/MWHr), duplicate_rank]\n",
      "Index: []\n",
      "Saved: C:\\Users\\dhawa\\Desktop\\mEng Project\\virtual_bidding\\DA_LBMP_PROCESSED\\Marginal_Cost_Losses_.csv\n",
      "Empty DataFrame\n",
      "Columns: [Time Stamp, Name, PTID, LBMP ($/MWHr), Marginal Cost Losses ($/MWHr), Marginal Cost Congestion ($/MWHr), duplicate_rank]\n",
      "Index: []\n",
      "Saved: C:\\Users\\dhawa\\Desktop\\mEng Project\\virtual_bidding\\DA_LBMP_PROCESSED\\Marginal_Cost_Congestion_.csv\n"
     ]
    }
   ],
   "source": [
    "import pandas as pd \n",
    "import os \n",
    "import glob\n",
    "\n",
    "parent_folder  = r\"C:\\Users\\dhawa\\Desktop\\mEng Project\\virtual_bidding\\REALTIME_ZONE\"\n",
    "output_folder = r\"C:\\Users\\dhawa\\Desktop\\mEng Project\\virtual_bidding\\REALTIME_ZONE_PROCESSED\"\n",
    "\n",
    "os.makedirs(output_folder, exist_ok=True)\n",
    "csv_files = glob.glob(os.path.join(parent_folder,\"*.csv\"),recursive=True)\n",
    "dataframes=[]\n",
    "# Iterate through subfolders in main folder\n",
    "for subfolder in os.listdir(parent_folder):\n",
    "    subfolder_path = os.path.join(parent_folder, subfolder)\n",
    "    \n",
    "    # Ensure it's a directory\n",
    "    if os.path.isdir(subfolder_path):\n",
    "        # Iterate through files in each subfolder\n",
    "        for file in os.listdir(subfolder_path): \n",
    "            csv_path = os.path.join(subfolder_path,file)\n",
    "            df = pd.read_csv(csv_path)\n",
    "            df[\"Time Stamp\"]= pd.to_datetime(df[\"Time Stamp\"])\n",
    "            dataframes.append(df)\n",
    "\n",
    "merged_df = pd.concat(dataframes,ignore_index=True)\n",
    "merged_df = merged_df.sort_values(by= \"Time Stamp\")\n",
    "# List of columns to pivot\n",
    "\n",
    "data_columns = [\"LBMP ($/MWHr)\", \"Marginal Cost Losses ($/MWHr)\", \"Marginal Cost Congestion ($/MWHr)\"]\n",
    "# Mark duplicates\n",
    "merged_df['duplicate_rank'] = merged_df.groupby(['Time Stamp', 'Name']).cumcount()\n",
    "\n",
    "# Keep only SECOND occurrences (rank == 1)\n",
    "first_occurrence_df = merged_df[merged_df['duplicate_rank'] == 0]\n",
    "\n",
    "# Pivot without errors\n",
    "# Process each data column\n",
    "for col in data_columns:\n",
    "    duplicates = first_occurrence_df[first_occurrence_df.duplicated(subset=['Time Stamp', 'Name'], keep=False)]\n",
    "    print(duplicates.sort_values(['Time Stamp', 'Name']))  \n",
    "\n",
    "    pivot_df = first_occurrence_df.pivot(index='Time Stamp', columns=\"Name\", values=col)\n",
    "    \n",
    "    # Define output filename\n",
    "    output_filename = os.path.join(output_folder, f\"{col.replace(' ', '_').replace('($/MWHr)', '').strip()}.csv\")\n",
    "    # Save the file\n",
    "    pivot_df.to_csv(output_filename)\n",
    "    print(f\"Saved: {output_filename}\")"
   ]
  },
  {
   "cell_type": "code",
   "execution_count": null,
   "metadata": {},
   "outputs": [],
   "source": []
  }
 ],
 "metadata": {
  "kernelspec": {
   "display_name": "Python 3",
   "language": "python",
   "name": "python3"
  },
  "language_info": {
   "codemirror_mode": {
    "name": "ipython",
    "version": 3
   },
   "file_extension": ".py",
   "mimetype": "text/x-python",
   "name": "python",
   "nbconvert_exporter": "python",
   "pygments_lexer": "ipython3",
   "version": "3.9.13"
  }
 },
 "nbformat": 4,
 "nbformat_minor": 2
}
